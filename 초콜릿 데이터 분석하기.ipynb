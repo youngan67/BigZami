{
 "cells": [
  {
   "cell_type": "markdown",
   "metadata": {
    "id": "bikd0SfTbi5h"
   },
   "source": [
    "# 초콜릿 데이터 분석하기\n",
    "\n",
    "\n",
    "*   초콜릿 데이터 소개\n",
    "  - 초콜릿 데이터(chocolate_ratings.csv)는 초콜릿에 대한 특징 데이터가 10개 속성으로 저장되어 있습니다.\n",
    "\n",
    "  \n",
    "  - 각 속성은 다음과 같습니다.\n",
    "     - REF : 참고번호\n",
    "     - Company (Manufacturer) : 회사(제조사)\n",
    "     - Company Location : 회사 지역\n",
    "     - Review Date : 후기 날짜\n",
    "     - Country of Bean Origin : 원두 원산지\n",
    "     - Specific Bean Origin or Bar Name : 상세 원두 원산지\n",
    "     - Cocoa Percent : 코코아 비율\n",
    "     - Ingredients : 재료\n",
    "     - Most Memorable Characteristics : 가장 기억에 남는 특징\n",
    "     - Rating : 평점\n"
   ]
  },
  {
   "cell_type": "markdown",
   "metadata": {
    "id": "TcGbRkPhhTUN"
   },
   "source": [
    "## 라이브러리 추가하기"
   ]
  },
  {
   "cell_type": "code",
   "execution_count": null,
   "metadata": {
    "id": "ppVzAFzCJvGN"
   },
   "outputs": [],
   "source": [
    "# 데이터 분석에 사용할 라이브러리 불러오기\n",
    "import pandas as pd\n",
    "import matplotlib.pyplot as plt\n",
    "import seaborn as sns"
   ]
  },
  {
   "cell_type": "markdown",
   "metadata": {
    "id": "eysXMYF4juD_"
   },
   "source": [
    "- Pandas : 데이터 분석, 특히 숫자 데이터 관리를 위한 라이브러리\n",
    "- matplotlib.pyplot 함수를 활용하여 그래프를 만들기 위한 라이브러리\n",
    "- seaborn : 다양한 색상 테마와 통계용 차트 등의 기능을 가진 라이브러리"
   ]
  },
  {
   "cell_type": "markdown",
   "metadata": {
    "id": "i54lAEL83Hvr"
   },
   "source": [
    "## 데이터셋 읽고 이해하기\n"
   ]
  },
  {
   "cell_type": "code",
   "execution_count": null,
   "metadata": {
    "id": "3lehydFNJ5Os"
   },
   "outputs": [],
   "source": [
    "df = pd.read_csv('./content/chocolate_ratings.csv')"
   ]
  },
  {
   "cell_type": "code",
   "execution_count": null,
   "metadata": {
    "colab": {
     "base_uri": "https://localhost:8080/",
     "height": 372
    },
    "id": "SJEs3jdrN70U",
    "outputId": "0677b212-92ed-41e0-9a62-7cd0370689d3"
   },
   "outputs": [],
   "source": [
    "df.head(5)"
   ]
  },
  {
   "cell_type": "code",
   "execution_count": null,
   "metadata": {
    "colab": {
     "base_uri": "https://localhost:8080/"
    },
    "id": "Ljf2ybupOD1B",
    "outputId": "2600cd32-3f6f-4ed4-d98c-2ab57eadda0f"
   },
   "outputs": [],
   "source": [
    "df.info()"
   ]
  },
  {
   "cell_type": "code",
   "execution_count": null,
   "metadata": {
    "colab": {
     "base_uri": "https://localhost:8080/"
    },
    "id": "lI7FnsOFOcYz",
    "outputId": "e0ce8dfc-587a-4059-fc42-3b855879814f"
   },
   "outputs": [],
   "source": [
    "# 데이터 프레임의 행과 열 개수 확인하기\n",
    "print(df.shape)"
   ]
  },
  {
   "cell_type": "code",
   "execution_count": null,
   "metadata": {
    "colab": {
     "base_uri": "https://localhost:8080/",
     "height": 528
    },
    "id": "-4ZFHFXgOkJI",
    "outputId": "4650cabe-9730-440c-c90e-1d6656dfe18b"
   },
   "outputs": [],
   "source": [
    "# 각종 통곗값 확인하기\n",
    "df.describe(include='all')"
   ]
  },
  {
   "cell_type": "markdown",
   "metadata": {
    "id": "U7LSRrZEkvuW"
   },
   "source": [
    "**[코드 설명]** \n",
    "- 초콜릿 데이터프레임 이름은 df_rt로 지정했습니다.\n",
    "- df 요약정보(info)결과, df.shape 결과를 보니 총 2,530개 행과 10개의 열로 구성되어 있습니다. 즉, 2,530개의 펭귄 데이터가 있고, 범주형(object), 수치-정수형(int64), 수치-실수형(float64)로 구성되어 있습니다.  \n",
    "- 각 속성별 데이터의 구성을 확인할 수 있습니다. 대표적으로 평균(mean), 최소(min), 최댓(max)값을 확인합니다."
   ]
  },
  {
   "cell_type": "markdown",
   "metadata": {
    "id": "mqLs2zeQ49yD"
   },
   "source": [
    "## 결측치 처리\n"
   ]
  },
  {
   "cell_type": "code",
   "execution_count": null,
   "metadata": {
    "colab": {
     "base_uri": "https://localhost:8080/"
    },
    "id": "Y-G8Ai8F1Gpz",
    "outputId": "03cd0a7d-98db-418f-a153-33d1a1744395"
   },
   "outputs": [],
   "source": [
    "# df의 각 속성별 결측치(null)의 개수 확인하기\n",
    "df.isnull().sum()"
   ]
  },
  {
   "cell_type": "code",
   "execution_count": null,
   "metadata": {
    "id": "L7YtYk0l6R9A"
   },
   "outputs": [],
   "source": [
    "# 결측치 제거하여 df2에 저장하기\n",
    "df2 = df.dropna(axis=0)"
   ]
  },
  {
   "cell_type": "code",
   "execution_count": null,
   "metadata": {
    "colab": {
     "base_uri": "https://localhost:8080/"
    },
    "id": "qlozo38j6rYL",
    "outputId": "baa700db-0687-4f1b-a39c-06c0d4bcc4e3"
   },
   "outputs": [],
   "source": [
    "# df2의 각 속성별 결측치(null)의 개수 확인하기\n",
    "df2.isnull().sum()"
   ]
  },
  {
   "cell_type": "markdown",
   "metadata": {
    "id": "xZG6-bcm0JEC"
   },
   "source": [
    "**[코드 설명]** \n",
    "- df.isnull().sum()로 각 속성별 결측치의 개수를 확인합니다.\n",
    "- df.dropna(axis=0)을 통해 결측치가 있는 행을 제거합니다.  "
   ]
  },
  {
   "cell_type": "markdown",
   "metadata": {
    "id": "6c-_O8QPh5L5"
   },
   "source": [
    "## 데이터 다듬기"
   ]
  },
  {
   "cell_type": "code",
   "execution_count": null,
   "metadata": {
    "colab": {
     "base_uri": "https://localhost:8080/",
     "height": 372
    },
    "id": "n8nBaWMliEAg",
    "outputId": "9b0dbfba-895e-4c4f-df46-b04fafeb2e28"
   },
   "outputs": [],
   "source": [
    "# 데이터 살펴보기\n",
    "df2.head()"
   ]
  },
  {
   "cell_type": "markdown",
   "metadata": {
    "id": "N_RiGmpt26kx"
   },
   "source": [
    "### [실습] '평점(rating)'을 5개의 클래스로 정하기\n",
    "\n",
    "- 4.0 - 5.0 = 매우 추천 = '5'\n",
    "- 3.5 - 3.9 = 추천= '4'\n",
    "- 3.0 - 3.4 = 보통= '3'\n",
    "- 2.0 - 2.9 = 비추천 ='2'\n",
    "- 1.0 - 1.9 = 매우 비추천 ='1'"
   ]
  },
  {
   "cell_type": "code",
   "execution_count": null,
   "metadata": {
    "id": "gMSGOell23zm"
   },
   "outputs": [],
   "source": [
    "# 평점 분류 함수 정의하기\n",
    "def Rating_rank(ex):\n",
    "    if ex >= 4:\n",
    "        return 5\n",
    "    elif 3.5 <= ex < 4:\n",
    "        return 4\n",
    "    elif 3.0 <= ex < 3.5:\n",
    "        return 3\n",
    "    elif 2.0 <= ex < 3.0:\n",
    "        return 2\n",
    "    else:\n",
    "        return 1"
   ]
  },
  {
   "cell_type": "code",
   "execution_count": null,
   "metadata": {
    "colab": {
     "base_uri": "https://localhost:8080/",
     "height": 513
    },
    "id": "9dmEj1r42-sM",
    "outputId": "c6fbf65e-b3c2-4051-d81e-95e8e82c19fb"
   },
   "outputs": [],
   "source": [
    "# Rating_rank 추가하기\n",
    "df2.loc[:, 'Rating_rank'] = df2.loc[:, 'Rating'].apply(Rating_rank)\n",
    "df2.head()"
   ]
  },
  {
   "cell_type": "markdown",
   "metadata": {
    "id": "umX_EqFe3Pwr"
   },
   "source": [
    "### [실습] 회사(Company(Manufacturer)) 6개의 클래스로 정하기\n",
    "- 50개 이상 : 5\n",
    "- 40개 이상 50개 미만 : 4\n",
    "- 30개 이상 40개 미만 : 3\n",
    "- 20개 이상 30개 미만 : 2\n",
    "- 10개 이상 20개 미만 : 1\n",
    "- 10개 미만 : 0"
   ]
  },
  {
   "cell_type": "code",
   "execution_count": null,
   "metadata": {
    "id": "BrfAjrXz3Qqj"
   },
   "outputs": [],
   "source": [
    "# 회사 클래스 정하는 함수 정의하기\n",
    "for ex in df2['Company (Manufacturer)'].value_counts().iteritems():\n",
    "    def company_freq(ex):\n",
    "        if ex >= 50:\n",
    "            return 5\n",
    "        elif 40 <= ex < 50:\n",
    "            return 4\n",
    "        elif 30 <= ex < 40:\n",
    "            return 3\n",
    "        elif 20 <= ex < 30:\n",
    "            return 2\n",
    "        elif 10 <= ex < 20:\n",
    "            return 1\n",
    "        else:\n",
    "            return 0"
   ]
  },
  {
   "cell_type": "code",
   "execution_count": null,
   "metadata": {
    "colab": {
     "base_uri": "https://localhost:8080/",
     "height": 206
    },
    "id": "HM3W6l9a3Vgq",
    "outputId": "17bd13bf-d885-4e19-bf13-54f640daa005"
   },
   "outputs": [],
   "source": [
    "# Company_score 데이터 프레임 만들기\n",
    "df3 = pd.DataFrame(df2['Company (Manufacturer)'].value_counts())\n",
    "df3.loc[:, 'Company_score'] = df3.loc[:, 'Company (Manufacturer)'].apply(company_freq)\n",
    "df3 = df3.reset_index()\n",
    "df3 = df3.drop('Company (Manufacturer)', axis=1)\n",
    "df3.head()"
   ]
  },
  {
   "cell_type": "code",
   "execution_count": null,
   "metadata": {
    "colab": {
     "base_uri": "https://localhost:8080/",
     "height": 713
    },
    "id": "RsHwdjn83cNy",
    "outputId": "bd3ce5fc-0c91-4693-e3c3-a5bef5485977"
   },
   "outputs": [],
   "source": [
    "# 기존 데이터 프레임에 합치기\n",
    "df2 = pd.merge(df2, df3, left_on=['Company (Manufacturer)'], right_on=['index'], how='outer')\n",
    "df2"
   ]
  },
  {
   "cell_type": "markdown",
   "metadata": {
    "id": "Ikvdii3kmjcn"
   },
   "source": [
    "### [실습] 상세 원두 원산지(Specific Bean Origin or Bar Name) 6개의 클래스로 정하기\n",
    "- 50개 이상 : 5\n",
    "- 40개 이상 50개 미만 : 4\n",
    "- 30개 이상 40개 미만 : 3\n",
    "- 20개 이상 30개 미만 : 2\n",
    "- 10개 이상 20개 미만 : 1\n",
    "- 10개 미만 : 0"
   ]
  },
  {
   "cell_type": "code",
   "execution_count": null,
   "metadata": {
    "id": "XttxzWBr34w0"
   },
   "outputs": [],
   "source": [
    "# 상세 원두 원산지 클래스 정하는 함수 정의하기\n",
    "for ex in df2['Specific Bean Origin or Bar Name'].value_counts().iteritems():\n",
    "    def Bean_freq(ex):\n",
    "        if ex >= 50:\n",
    "            return 5\n",
    "        elif 40 <= ex < 50:\n",
    "            return 4\n",
    "        elif 30 <= ex < 40:\n",
    "            return 3\n",
    "        elif 20 <= ex < 30:\n",
    "            return 2\n",
    "        elif 10 <= ex < 20:\n",
    "            return 1\n",
    "        else:\n",
    "            return 0"
   ]
  },
  {
   "cell_type": "code",
   "execution_count": null,
   "metadata": {
    "colab": {
     "base_uri": "https://localhost:8080/",
     "height": 206
    },
    "id": "vAbWsCkR39SD",
    "outputId": "87223ea0-62ef-4aaf-c90d-1581e6219594"
   },
   "outputs": [],
   "source": [
    "# Bean_score 데이터 프레임 만들기\n",
    "df3 = pd.DataFrame(df2['Specific Bean Origin or Bar Name'].value_counts())\n",
    "df3.loc[:, 'Bean_score'] = df3.loc[:, 'Specific Bean Origin or Bar Name'].apply(Bean_freq)\n",
    "df3 = df3.reset_index()\n",
    "df3 = df3.drop('Specific Bean Origin or Bar Name', axis=1)\n",
    "df3.head()"
   ]
  },
  {
   "cell_type": "code",
   "execution_count": null,
   "metadata": {
    "colab": {
     "base_uri": "https://localhost:8080/",
     "height": 730
    },
    "id": "XvCBUxHFnRBe",
    "outputId": "207c45c4-bf81-48e2-8759-067f1dbaf55c"
   },
   "outputs": [],
   "source": [
    "# 기존 데이터 프레임에 합치기\n",
    "df2 = pd.merge(df2, df3, left_on=['Specific Bean Origin or Bar Name'], right_on=['index'], how='outer')\n",
    "df2"
   ]
  },
  {
   "cell_type": "markdown",
   "metadata": {
    "id": "Wnf7bSwg4PKd"
   },
   "source": [
    "### [실습] 재료(Ingredients) 6개의 클래스로 정하기\n",
    "- 800개 이상 : 5\n",
    "- 700개 이상 800개 미만 : 4\n",
    "- 600개 이상 700개 미만 : 3\n",
    "- 100개 이상 600개 미만 : 2\n",
    "- 50개 이상 100개 미만 : 1\n",
    "- 50개 미만 : 0\n"
   ]
  },
  {
   "cell_type": "code",
   "execution_count": null,
   "metadata": {
    "id": "jVs1spx24MxV"
   },
   "outputs": [],
   "source": [
    "# 재료 클래스 정하는 함수 정의하기\n",
    "for ex in df2['Ingredients'].value_counts().iteritems():\n",
    "    def Ingredient_freq(ex):\n",
    "        if ex >= 800:\n",
    "            return 5\n",
    "        elif 700 <= ex < 800:\n",
    "            return 4\n",
    "        elif 600 <= ex < 700:\n",
    "            return 3\n",
    "        elif 100 <= ex < 600:\n",
    "            return 2\n",
    "        elif 50 <= ex < 100:\n",
    "            return 1\n",
    "        else:\n",
    "            return 0"
   ]
  },
  {
   "cell_type": "code",
   "execution_count": null,
   "metadata": {
    "colab": {
     "base_uri": "https://localhost:8080/",
     "height": 206
    },
    "id": "d7uR3PSD4UfS",
    "outputId": "50e6fdc8-e53c-463a-9fc2-fe096b5d52bc"
   },
   "outputs": [],
   "source": [
    "# Ingredients_score 데이터 프레임 만들기\n",
    "df3 = pd.DataFrame(df2['Ingredients'].value_counts())\n",
    "df3.loc[:, 'Ingredients_score'] = df3.loc[:,'Ingredients'].apply(Ingredient_freq)\n",
    "df3 = df3.reset_index()\n",
    "df3 = df3.drop('Ingredients', axis=1)\n",
    "df3.head()"
   ]
  },
  {
   "cell_type": "code",
   "execution_count": null,
   "metadata": {
    "colab": {
     "base_uri": "https://localhost:8080/",
     "height": 730
    },
    "id": "H0CSEgT94ck0",
    "outputId": "5a7a3e64-7107-40a4-8fd4-5774c254812b"
   },
   "outputs": [],
   "source": [
    "# 기존 데이터 프레임에 합치기\n",
    "df2 = pd.merge(df2, df3, left_on=['Ingredients'], right_on=['index'], how='outer')\n",
    "df2"
   ]
  },
  {
   "cell_type": "markdown",
   "metadata": {
    "id": "VbG03d3K4hPB"
   },
   "source": [
    "### [실습] 코코아 비율(Cocoa Percent) 실수형으로 만들기"
   ]
  },
  {
   "cell_type": "code",
   "execution_count": null,
   "metadata": {
    "colab": {
     "base_uri": "https://localhost:8080/",
     "height": 730
    },
    "id": "J2gPUCVv4iRS",
    "outputId": "57e188e8-97ae-410d-8201-1dfc02b4ceec"
   },
   "outputs": [],
   "source": [
    "df2['Cocoa Percent'] = df2['Cocoa Percent'].str.replace('%', '')\n",
    "df2['Cocoa Percent'] = df2['Cocoa Percent'].astype(float)\n",
    "df2"
   ]
  },
  {
   "cell_type": "markdown",
   "metadata": {
    "id": "00iniuxa9M0q"
   },
   "source": [
    "## 데이터 시각화 및 분석\n",
    "\n"
   ]
  },
  {
   "cell_type": "code",
   "execution_count": null,
   "metadata": {
    "colab": {
     "base_uri": "https://localhost:8080/",
     "height": 460
    },
    "id": "CkDFu5E1bMAg",
    "outputId": "72f6b71a-1ae8-4a71-b0b4-c84e5a3c3231"
   },
   "outputs": [],
   "source": [
    "# 세로 막대 그래프 작성하기(원두 원산지에 따른 회사수)\n",
    "df2.groupby('Country of Bean Origin')['Company (Manufacturer)'].count().sort_values(ascending=False).head(50).plot.bar(figsize=(20, 5))\n"
   ]
  },
  {
   "cell_type": "markdown",
   "metadata": {
    "id": "6NvGURsThEDa"
   },
   "source": [
    "**[코드 설명]** \n",
    "- 원두 원산지에 따른 회사 수를 세로 막대그래프로 확인합니다.\n",
    "- 세로 막대 그래프는 내림차순으로 표현하도록 합니다.\n",
    "- Venezuela, Pelu, Dominican, Ecuador 순서로 회사들이 사용하는 원두의 원산지가 많음을 확인할 수 있습니다.  "
   ]
  },
  {
   "cell_type": "code",
   "execution_count": null,
   "metadata": {
    "id": "EwTlEfSOVQrU"
   },
   "outputs": [],
   "source": [
    "# 상관관계 분석을 위한 데이터프레임 만들기\n",
    "df_corr=df2.loc[:,['Rating_rank','Cocoa Percent','Company_score','Bean_score','Ingredients_score']]"
   ]
  },
  {
   "cell_type": "code",
   "execution_count": null,
   "metadata": {
    "colab": {
     "base_uri": "https://localhost:8080/",
     "height": 365
    },
    "id": "lqUJmM2oUtf3",
    "outputId": "f3dcd0e9-b293-4416-becf-fe3ebded8792"
   },
   "outputs": [],
   "source": [
    "# 상관관계 분석하기\n",
    "sns.heatmap(df_corr.corr(), annot=True, fmt=\"1.1f\")"
   ]
  },
  {
   "cell_type": "markdown",
   "metadata": {
    "id": "O88Gee0E1gYV"
   },
   "source": [
    "**[코드 설명]** \n",
    "- df2의 Rating_rank, Cocoa Percent, Company_score, Bean_score, Ingredients_score 속성 간의 상관관계를 분석합니다.\n",
    "- 상관관계 분석 결과를 heatmap으로 표현하도록 합니다.\n",
    "- Rating_rank는 Company_score, Ingredients_score와 약간의 상관관계가 있음을 확인할 수 있습니다."
   ]
  }
 ],
 "metadata": {
  "colab": {
   "collapsed_sections": [],
   "provenance": []
  },
  "kernelspec": {
   "display_name": "Python 3 (ipykernel)",
   "language": "python",
   "name": "python3"
  },
  "language_info": {
   "codemirror_mode": {
    "name": "ipython",
    "version": 3
   },
   "file_extension": ".py",
   "mimetype": "text/x-python",
   "name": "python",
   "nbconvert_exporter": "python",
   "pygments_lexer": "ipython3",
   "version": "3.9.14"
  }
 },
 "nbformat": 4,
 "nbformat_minor": 1
}
